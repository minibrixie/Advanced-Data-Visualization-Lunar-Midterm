{
  "nbformat": 4,
  "nbformat_minor": 0,
  "metadata": {
    "colab": {
      "provenance": [],
      "authorship_tag": "ABX9TyPdLjrHt3DUDCAl5zP5pJAS",
      "include_colab_link": true
    },
    "kernelspec": {
      "name": "python3",
      "display_name": "Python 3"
    },
    "language_info": {
      "name": "python"
    }
  },
  "cells": [
    {
      "cell_type": "markdown",
      "metadata": {
        "id": "view-in-github",
        "colab_type": "text"
      },
      "source": [
        "<a href=\"https://colab.research.google.com/github/minibrixie/Advanced-Data-Visualization-Lunar-Midterm/blob/main/Advanced_Data_Visualization_Lunar_Midterm.ipynb\" target=\"_parent\"><img src=\"https://colab.research.google.com/assets/colab-badge.svg\" alt=\"Open In Colab\"/></a>"
      ]
    },
    {
      "cell_type": "code",
      "execution_count": 1,
      "metadata": {
        "colab": {
          "base_uri": "https://localhost:8080/"
        },
        "id": "lHJHv3ANBvTr",
        "outputId": "867c480f-7e61-4251-c9e6-fd0179d13552"
      },
      "outputs": [
        {
          "output_type": "stream",
          "name": "stdout",
          "text": [
            "What is your name? angelica\n",
            "Hello Angelica\n",
            "How old are you? 22\n",
            "You are 22 years old\n"
          ]
        }
      ],
      "source": [
        "name = input(\"What is your name? \")\n",
        "print(\"Hello\", name.capitalize())\n",
        "age = input(\"How old are you? \")\n",
        "print(\"You are\", age, \"years old\")"
      ]
    },
    {
      "cell_type": "code",
      "source": [
        "s = \"pizza\"\n",
        "t = s[0].upper()\n",
        "s.capitalize()\n",
        "print(t)"
      ],
      "metadata": {
        "colab": {
          "base_uri": "https://localhost:8080/"
        },
        "id": "UF4e7BL1CH9D",
        "outputId": "5461043e-bf2f-4c4a-f948-e6eba153cbe3"
      },
      "execution_count": 2,
      "outputs": [
        {
          "output_type": "stream",
          "name": "stdout",
          "text": [
            "P\n"
          ]
        }
      ]
    },
    {
      "cell_type": "code",
      "source": [
        "s = \"pizza\"\n",
        "t = s.upper()\n",
        "print(t)"
      ],
      "metadata": {
        "colab": {
          "base_uri": "https://localhost:8080/"
        },
        "id": "mMZWEeN1CMsB",
        "outputId": "307b2e3a-e74f-4842-80dd-92f4d99705b4"
      },
      "execution_count": 3,
      "outputs": [
        {
          "output_type": "stream",
          "name": "stdout",
          "text": [
            "PIZZA\n"
          ]
        }
      ]
    },
    {
      "cell_type": "code",
      "source": [
        "s = \"pizza\"\n",
        "t = s.lower()\n",
        "print(t)"
      ],
      "metadata": {
        "colab": {
          "base_uri": "https://localhost:8080/"
        },
        "id": "yUho9tMrCP7V",
        "outputId": "6f260788-db35-4e17-af7d-2fae54359f73"
      },
      "execution_count": 4,
      "outputs": [
        {
          "output_type": "stream",
          "name": "stdout",
          "text": [
            "pizza\n"
          ]
        }
      ]
    },
    {
      "cell_type": "code",
      "source": [
        "name = \"Read\"\n",
        "new_name = name.replace('R', 'P').replace('d', 'l')\n",
        "print(new_name)"
      ],
      "metadata": {
        "colab": {
          "base_uri": "https://localhost:8080/"
        },
        "id": "Q5SIiQGVCTIM",
        "outputId": "ad522ea5-e852-404b-b2ab-be8b711e4ef8"
      },
      "execution_count": 5,
      "outputs": [
        {
          "output_type": "stream",
          "name": "stdout",
          "text": [
            "Peal\n"
          ]
        }
      ]
    },
    {
      "cell_type": "code",
      "source": [
        "a = 2\n",
        "b = 3\n",
        "c = 2.3\n",
        "d = True\n",
        "print(type(a), type(b), type(c), type(d))"
      ],
      "metadata": {
        "colab": {
          "base_uri": "https://localhost:8080/"
        },
        "id": "1q1sN1TgCa1E",
        "outputId": "19c7f87d-32c7-48da-c53a-3244efb6b8df"
      },
      "execution_count": 6,
      "outputs": [
        {
          "output_type": "stream",
          "name": "stdout",
          "text": [
            "<class 'int'> <class 'int'> <class 'float'> <class 'bool'>\n"
          ]
        }
      ]
    },
    {
      "cell_type": "code",
      "source": [
        "name = input(\"What is your name? \") # Rune\n",
        "print(f\"Hello {name}!\")\n",
        "birth_year = input(\"What is your birth year? \")\n",
        "birth_year = int(birth_year)\n",
        "print(f\"You are {2023 - birth_year} years old!\")"
      ],
      "metadata": {
        "colab": {
          "base_uri": "https://localhost:8080/"
        },
        "id": "pKGMLO0VCc5u",
        "outputId": "621deb07-d54d-4371-b7a4-64515c7b38f2"
      },
      "execution_count": 7,
      "outputs": [
        {
          "output_type": "stream",
          "name": "stdout",
          "text": [
            "What is your name? Angelica\n",
            "Hello Angelica!\n",
            "What is your birth year? 2001\n",
            "You are 22 years old!\n"
          ]
        }
      ]
    },
    {
      "cell_type": "code",
      "source": [
        "s1 = input(\"Enter the first number: \")\n",
        "s2 = input(\"Enter the second number: \")\n",
        "Add = float(s1) + float(s2)\n",
        "print('Sum: {0} + {1} = {2}'.format(s1, s2, Add))\n",
        "Subtract = float(s1) - float(s2)\n",
        "print('Difference: {0} - {1} = {2}'.format(s1, s2, Subtract))\n",
        "Multiply = float(s1) * float(s2)\n",
        "print('Product: {0} * {1} = {2}'.format(s1, s2, Multiply))\n",
        "Divide = float(s1) / float(s2)\n",
        "print('Quotient: {0} / {1} = {2}'.format(s1, s2, Divide))\n",
        "Exponent = float(s1) ** float(s2)\n",
        "print('Power: {0} ** {1} = {2}'.format(s1, s2, Exponent))\n",
        "Remainder = float(s1) % float(s2)\n",
        "print('Division with Remainder: {0} / {1} = {2}\\nRemainder: {2}'.format(s1, s2, Divide, Remainder))"
      ],
      "metadata": {
        "colab": {
          "base_uri": "https://localhost:8080/"
        },
        "id": "QHxjAY5oCiT5",
        "outputId": "07a55c68-6007-4f6d-873b-37f09058b7ab"
      },
      "execution_count": 8,
      "outputs": [
        {
          "output_type": "stream",
          "name": "stdout",
          "text": [
            "Enter the first number: 1\n",
            "Enter the second number: 25\n",
            "Sum: 1 + 25 = 26.0\n",
            "Difference: 1 - 25 = -24.0\n",
            "Product: 1 * 25 = 25.0\n",
            "Quotient: 1 / 25 = 0.04\n",
            "Power: 1 ** 25 = 1.0\n",
            "Division with Remainder: 1 / 25 = 0.04\n",
            "Remainder: 0.04\n"
          ]
        }
      ]
    },
    {
      "cell_type": "code",
      "source": [
        "num = 5 \n",
        "if num > 0 and num < 15: \n",
        " print(num)"
      ],
      "metadata": {
        "colab": {
          "base_uri": "https://localhost:8080/"
        },
        "id": "0N2BCiyYCqGh",
        "outputId": "fadac7c2-0f40-4d29-ee0c-6e982bfd3a08"
      },
      "execution_count": 9,
      "outputs": [
        {
          "output_type": "stream",
          "name": "stdout",
          "text": [
            "5\n"
          ]
        }
      ]
    },
    {
      "cell_type": "code",
      "source": [
        "if 5!=10:\n",
        " print(\"5 and 10 is not equal\")"
      ],
      "metadata": {
        "colab": {
          "base_uri": "https://localhost:8080/"
        },
        "id": "Izv0KtCuCsR0",
        "outputId": "496b1860-3543-4bad-db2f-ed91252b97e2"
      },
      "execution_count": 10,
      "outputs": [
        {
          "output_type": "stream",
          "name": "stdout",
          "text": [
            "5 and 10 is not equal\n"
          ]
        }
      ]
    },
    {
      "cell_type": "code",
      "source": [
        "choice = int(input(\"Enter your choice:\"))\n",
        "print(\"Enter two numbers: \")\n",
        "num1 = float(input())\n",
        "num2 = float(input())\n",
        "if choice == 1: \n",
        " res = num1 + num2\n",
        " print(\"Result = \", res)\n",
        "elif choice == 2:\n",
        " res = num1 - num2\n",
        " print(\"Result = \", res)\n",
        "elif choice == 3:\n",
        " res = num1 * num2\n",
        " print(\"Result = \", res)\n",
        "elif choice == 4:\n",
        " res = num1 / num2\n",
        " print(\"Result = \", res)\n",
        "elif choice == 5:\n",
        " exit()\n",
        "else: \n",
        " print(\"Wrong input..!!\")"
      ],
      "metadata": {
        "colab": {
          "base_uri": "https://localhost:8080/"
        },
        "id": "h0V-IXnWCt4W",
        "outputId": "491b7a7d-9f05-47fa-f5c7-75005c676c88"
      },
      "execution_count": 11,
      "outputs": [
        {
          "output_type": "stream",
          "name": "stdout",
          "text": [
            "Enter your choice:1\n",
            "Enter two numbers: \n",
            "25\n",
            "12\n",
            "Result =  37.0\n"
          ]
        }
      ]
    },
    {
      "cell_type": "code",
      "source": [
        "thislist = [\"apple\", \"banana\", \"cherry\"]\n",
        "print(thislist[2])"
      ],
      "metadata": {
        "colab": {
          "base_uri": "https://localhost:8080/"
        },
        "id": "PRfA8pe6C0-_",
        "outputId": "1354f735-4243-4dd4-899c-193c23f47a78"
      },
      "execution_count": 12,
      "outputs": [
        {
          "output_type": "stream",
          "name": "stdout",
          "text": [
            "cherry\n"
          ]
        }
      ]
    },
    {
      "cell_type": "code",
      "source": [
        "thislist = [\"apple\", \"banana\", \"cherry\"]\n",
        "thislist[1] = \"blackcurrant\"\n",
        "print(thislist)"
      ],
      "metadata": {
        "colab": {
          "base_uri": "https://localhost:8080/"
        },
        "id": "AGfG1uXTC2z2",
        "outputId": "7fc07bcf-de64-4fb1-94c4-533c53adb864"
      },
      "execution_count": 13,
      "outputs": [
        {
          "output_type": "stream",
          "name": "stdout",
          "text": [
            "['apple', 'blackcurrant', 'cherry']\n"
          ]
        }
      ]
    },
    {
      "cell_type": "code",
      "source": [
        "thislist = [\"apple\", \"banana\", \"cherry\"]\n",
        "thislist.append(\"orange\")\n",
        "print(thislist)"
      ],
      "metadata": {
        "colab": {
          "base_uri": "https://localhost:8080/"
        },
        "id": "4QSQLDC7C6bG",
        "outputId": "e4d31720-fbba-4fdd-c7cd-921ea8df2afd"
      },
      "execution_count": 14,
      "outputs": [
        {
          "output_type": "stream",
          "name": "stdout",
          "text": [
            "['apple', 'banana', 'cherry', 'orange']\n"
          ]
        }
      ]
    },
    {
      "cell_type": "code",
      "source": [
        "x = [7, 4, 3, 2, 5]\n",
        "x.remove(5)\n",
        "print(x)"
      ],
      "metadata": {
        "colab": {
          "base_uri": "https://localhost:8080/"
        },
        "id": "0y-ddW5CC8nD",
        "outputId": "7ced1df7-c125-4c6c-c409-025fd088f0c7"
      },
      "execution_count": 15,
      "outputs": [
        {
          "output_type": "stream",
          "name": "stdout",
          "text": [
            "[7, 4, 3, 2]\n"
          ]
        }
      ]
    },
    {
      "cell_type": "code",
      "source": [
        "z = [7, 5, 3, 3]\n",
        "removed_item = z.pop(1)\n",
        "print(removed_item)\n",
        "print(z)"
      ],
      "metadata": {
        "colab": {
          "base_uri": "https://localhost:8080/"
        },
        "id": "DWK-IwTpC-j0",
        "outputId": "f5ebd7d7-eec9-457d-8115-8ef541e4f07f"
      },
      "execution_count": 16,
      "outputs": [
        {
          "output_type": "stream",
          "name": "stdout",
          "text": [
            "5\n",
            "[7, 3, 3]\n"
          ]
        }
      ]
    },
    {
      "cell_type": "code",
      "source": [
        "x = [1, 2, 3]\n",
        "x.extend([4,5])\n",
        "print(x)\n"
      ],
      "metadata": {
        "colab": {
          "base_uri": "https://localhost:8080/"
        },
        "id": "pA0euY6mDBEG",
        "outputId": "85b4d732-bb18-4547-e70d-6e0178a2b4c9"
      },
      "execution_count": 17,
      "outputs": [
        {
          "output_type": "stream",
          "name": "stdout",
          "text": [
            "[1, 2, 3, 4, 5]\n"
          ]
        }
      ]
    },
    {
      "cell_type": "code",
      "source": [
        "z = [1, 2, 3, 4, 5]\n",
        "z.insert(4, [1, 2]) \n",
        "print(z)\n"
      ],
      "metadata": {
        "colab": {
          "base_uri": "https://localhost:8080/"
        },
        "id": "sXOUV1DhDDko",
        "outputId": "9102dbc2-4ead-4b0a-c357-9d5f378202bd"
      },
      "execution_count": 18,
      "outputs": [
        {
          "output_type": "stream",
          "name": "stdout",
          "text": [
            "[1, 2, 3, 4, [1, 2], 5]\n"
          ]
        }
      ]
    },
    {
      "cell_type": "code",
      "source": [
        "import numpy\n",
        "lst = [1, 7, 0, 6, 2, 5, 6]\n",
        "arr = numpy.asarray(lst)\n",
        "print(\"List:\", lst)\n",
        "print(\"arr: \", arr)\n",
        "arr1 = numpy.asarray(arr)\n",
        "print(\"arr1: \" , arr1)\n",
        "arr1[3] = 23\n",
        "print(\"lst: \" , lst)\n",
        "print(\"arr1: \" , arr1)\n"
      ],
      "metadata": {
        "colab": {
          "base_uri": "https://localhost:8080/"
        },
        "id": "3MTq0_CtDGP_",
        "outputId": "5e9cd795-b947-4ad0-ce01-97ea08d4813b"
      },
      "execution_count": 19,
      "outputs": [
        {
          "output_type": "stream",
          "name": "stdout",
          "text": [
            "List: [1, 7, 0, 6, 2, 5, 6]\n",
            "arr:  [1 7 0 6 2 5 6]\n",
            "arr1:  [1 7 0 6 2 5 6]\n",
            "lst:  [1, 7, 0, 6, 2, 5, 6]\n",
            "arr1:  [ 1  7  0 23  2  5  6]\n"
          ]
        }
      ]
    }
  ]
}